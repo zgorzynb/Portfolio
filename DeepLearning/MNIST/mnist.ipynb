{
 "cells": [
  {
   "cell_type": "markdown",
   "metadata": {},
   "source": [
    "# Import libraries"
   ]
  },
  {
   "cell_type": "code",
   "execution_count": 1,
   "metadata": {},
   "outputs": [],
   "source": [
    "import matplotlib.pyplot as plt\n",
    "import numpy as np\n",
    "import pandas as pd\n",
    "\n",
    "import torch\n",
    "import torch.nn.functional as F\n",
    "from torch import nn\n",
    "from torchvision import datasets, transforms"
   ]
  },
  {
   "cell_type": "markdown",
   "metadata": {},
   "source": [
    "# Create \"Dataset\" class"
   ]
  },
  {
   "cell_type": "code",
   "execution_count": 2,
   "metadata": {},
   "outputs": [],
   "source": [
    "class Dataset():\n",
    "    def __init__(self, csv_file, train, test_size, transform = None, labels=True):\n",
    "        data = pd.read_csv(csv_file)\n",
    "        key = int((1-test_size)*len(data))\n",
    "        if train:\n",
    "            self.data = pd.DataFrame(data.iloc[:key,:])\n",
    "        else:\n",
    "            self.data = pd.DataFrame(data.iloc[key:,:])\n",
    "        self.transform = transform\n",
    "        self.labels = labels\n",
    "        \n",
    "    def __len__(self):\n",
    "        return len(self.data)\n",
    "    \n",
    "    def __getitem__(self, idx):\n",
    "        if self.labels:\n",
    "            out = self.data.iloc[idx,1:].to_numpy().reshape((28,28)).astype(\"double\")\n",
    "            labels = self.get_label(idx)\n",
    "        else:\n",
    "            out = self.data.iloc[idx,:].to_numpy().reshape((28,28)).astype(\"double\")\n",
    "            labels = []\n",
    "        out = out/255.\n",
    "        if self.transform:\n",
    "            out = self.transform(out)\n",
    "        return out, labels\n",
    "\n",
    "    def get_label(self,idx):\n",
    "        return self.data.iloc[idx,0].item()"
   ]
  },
  {
   "cell_type": "markdown",
   "metadata": {},
   "source": [
    "# Load data and transformations"
   ]
  },
  {
   "cell_type": "code",
   "execution_count": 3,
   "metadata": {},
   "outputs": [],
   "source": [
    "transform = transforms.Compose([transforms.ToTensor(),\n",
    "                               transforms.Normalize((0.5,),(0.5,))])\n",
    "\n",
    "train_dataset = Dataset(\"Data/train.csv\", train = True, test_size = 0.2, transform = transform)\n",
    "train_loader = torch.utils.data.DataLoader(train_dataset, batch_size = 100, shuffle = True)\n",
    "test_dataset = Dataset(\"Data/train.csv\", train = False, test_size = 0.2, transform = transform)\n",
    "test_loader = torch.utils.data.DataLoader(test_dataset, batch_size = 100, shuffle = False)\n",
    "train_iter = iter(train_loader)\n",
    "test_iter = iter(test_loader)"
   ]
  },
  {
   "cell_type": "markdown",
   "metadata": {},
   "source": [
    "# Prepare NN model"
   ]
  },
  {
   "cell_type": "code",
   "execution_count": 4,
   "metadata": {},
   "outputs": [],
   "source": [
    "class Classifier(nn.Module):\n",
    "    def __init__(self, x_in, x1, x2, x_out):\n",
    "        super().__init__()\n",
    "        self.linear1 = nn.Linear(x_in, x1)\n",
    "        self.linear2 = nn.Linear(x1,x2)\n",
    "        self.linear3 = nn.Linear(x2,x_out)\n",
    "    def forward(self, x):\n",
    "        x = F.relu(self.linear1(x))\n",
    "        x = F.relu(self.linear2(x))\n",
    "        x = self.linear3(x)\n",
    "        return x        "
   ]
  },
  {
   "cell_type": "markdown",
   "metadata": {},
   "source": [
    "# Training settings"
   ]
  },
  {
   "cell_type": "code",
   "execution_count": 5,
   "metadata": {},
   "outputs": [],
   "source": [
    "model = Classifier(28*28, 135, 65, 10)\n",
    "criterion = nn.CrossEntropyLoss()\n",
    "optimizer = torch.optim.Adam(model.parameters(), lr = 0.0001)"
   ]
  },
  {
   "cell_type": "markdown",
   "metadata": {},
   "source": [
    "# Training"
   ]
  },
  {
   "cell_type": "code",
   "execution_count": 6,
   "metadata": {},
   "outputs": [
    {
     "name": "stdout",
     "output_type": "stream",
     "text": [
      "epoch 1\n",
      "Loss 1.249494396770994\n",
      "Acc 68.10118865966797\n",
      "Test_loss 0.6037014864739918\n",
      "Test_acc 85.01190185546875\n",
      "epoch 2\n",
      "Loss 0.48589993960091044\n",
      "Acc 87.23213958740234\n",
      "Test_loss 0.4109301057954629\n",
      "Test_acc 89.1547622680664\n",
      "epoch 3\n",
      "Loss 0.38177093610699686\n",
      "Acc 89.16666412353516\n",
      "Test_loss 0.3501886106317952\n",
      "Test_acc 90.29762268066406\n",
      "epoch 4\n",
      "Loss 0.3411232293361709\n",
      "Acc 90.07737731933594\n",
      "Test_loss 0.32382850295730997\n",
      "Test_acc 90.80952453613281\n",
      "epoch 5\n",
      "Loss 0.31577580528599875\n",
      "Acc 90.96428680419922\n",
      "Test_loss 0.3072465042627993\n",
      "Test_acc 91.28571319580078\n",
      "epoch 6\n",
      "Loss 0.2978457977019605\n",
      "Acc 91.36607360839844\n",
      "Test_loss 0.2961938979015464\n",
      "Test_acc 91.78571319580078\n",
      "epoch 7\n",
      "Loss 0.28430390825849916\n",
      "Acc 91.79166412353516\n",
      "Test_loss 0.27824934297019527\n",
      "Test_acc 92.07142639160156\n",
      "epoch 8\n",
      "Loss 0.27110480940679\n",
      "Acc 92.18452453613281\n",
      "Test_loss 0.28135704603933154\n",
      "Test_acc 91.88095092773438\n",
      "epoch 9\n",
      "Loss 0.2594278741716629\n",
      "Acc 92.49404907226562\n",
      "Test_loss 0.2599735374429396\n",
      "Test_acc 92.57142639160156\n",
      "epoch 10\n",
      "Loss 0.2469216066944812\n",
      "Acc 92.88987731933594\n",
      "Test_loss 0.24906798469878377\n",
      "Test_acc 92.85713958740234\n",
      "epoch 11\n",
      "Loss 0.23645341329808747\n",
      "Acc 93.25\n",
      "Test_loss 0.2367235349402541\n",
      "Test_acc 93.13095092773438\n",
      "epoch 12\n",
      "Loss 0.2247868233493396\n",
      "Acc 93.56547546386719\n",
      "Test_loss 0.22507488514695848\n",
      "Test_acc 93.64286041259766\n",
      "epoch 13\n",
      "Loss 0.21460438371148138\n",
      "Acc 93.9047622680664\n",
      "Test_loss 0.21671200694427603\n",
      "Test_acc 93.60713958740234\n",
      "epoch 14\n",
      "Loss 0.20517935836687684\n",
      "Acc 94.0922622680664\n",
      "Test_loss 0.21612199914774724\n",
      "Test_acc 93.53571319580078\n",
      "epoch 15\n",
      "Loss 0.19547251198396443\n",
      "Acc 94.34821319580078\n",
      "Test_loss 0.20276796338813646\n",
      "Test_acc 94.07142639160156\n"
     ]
    }
   ],
   "source": [
    "epochs = 15\n",
    "epoch_loss = []\n",
    "epoch_acc = []\n",
    "epoch_test_loss = []\n",
    "epoch_test_acc = []\n",
    "for e in range(epochs):\n",
    "    actual_loss = 0.0\n",
    "    actual_preds = 0.0\n",
    "    test_loss = 0.0\n",
    "    test_preds = 0.0\n",
    "    for images, labels in train_loader:\n",
    "        images = images.view(images.shape[0], -1).float()\n",
    "        out = model(images)\n",
    "        loss = criterion(out, labels)\n",
    "        optimizer.zero_grad()\n",
    "        loss.backward()\n",
    "        optimizer.step()\n",
    "        actual_loss += loss.item()\n",
    "        _, preds = torch.max(out,1)\n",
    "        actual_preds += torch.sum(preds == labels)\n",
    "    else:\n",
    "        loss = actual_loss/len(train_loader)\n",
    "        acc = actual_preds/len(train_loader)\n",
    "        epoch_loss.append(loss)\n",
    "        epoch_acc.append(acc)\n",
    "        print('epoch {}'.format(e+1))\n",
    "        print('Loss {}'.format(loss))\n",
    "        print('Acc {}'.format(acc))\n",
    "        \n",
    "        for images, labels in test_loader:\n",
    "            images = images.view(images.shape[0], -1).float()\n",
    "            out = model(images)\n",
    "            loss = criterion(out, labels)\n",
    "            test_loss += loss.item()\n",
    "            _, preds = torch.max(out,1)\n",
    "            test_preds += torch.sum(preds == labels)\n",
    "        else:\n",
    "            test_loss = test_loss/len(test_loader)\n",
    "            test_acc = test_preds/len(test_loader)\n",
    "            epoch_test_loss.append(test_loss)\n",
    "            epoch_test_acc.append(test_acc)\n",
    "            print('Test_loss {}'.format(test_loss))\n",
    "            print('Test_acc {}'.format(test_acc))"
   ]
  },
  {
   "cell_type": "markdown",
   "metadata": {},
   "source": [
    "# Plot loss"
   ]
  },
  {
   "cell_type": "code",
   "execution_count": 7,
   "metadata": {},
   "outputs": [
    {
     "data": {
      "image/png": "[encoded data removed]",
      "text/plain": [
       "<Figure size 432x288 with 1 Axes>"
      ]
     },
     "metadata": {
      "needs_background": "light"
     },
     "output_type": "display_data"
    }
   ],
   "source": [
    "plt.plot(epoch_loss, color ='r', label = \"Train Loss\")\n",
    "plt.plot(epoch_test_loss, color ='b', label = \"Test loss\")\n",
    "plt.legend()\n",
    "plt.show()"
   ]
  },
  {
   "cell_type": "markdown",
   "metadata": {},
   "source": [
    "# Plot accuracy"
   ]
  },
  {
   "cell_type": "code",
   "execution_count": 8,
   "metadata": {},
   "outputs": [
    {
     "data": {
      "image/png": "[encoded data removed]",
      "text/plain": [
       "<Figure size 432x288 with 1 Axes>"
      ]
     },
     "metadata": {
      "needs_background": "light"
     },
     "output_type": "display_data"
    }
   ],
   "source": [
    "plt.plot(epoch_acc, color ='r', label = \"Train accuracy\")\n",
    "plt.plot(epoch_test_acc, color ='b', label = \"Test accuracy\")\n",
    "plt.legend()\n",
    "plt.show()"
   ]
  },
  {
   "cell_type": "markdown",
   "metadata": {},
   "source": [
    "# GPU settings"
   ]
  },
  {
   "cell_type": "code",
   "execution_count": 9,
   "metadata": {},
   "outputs": [],
   "source": [
    "device = torch.device(\"cuda:0\" if torch.cuda.is_available() else \"cpu\")"
   ]
  },
  {
   "cell_type": "markdown",
   "metadata": {},
   "source": [
    "# Prepare DL model"
   ]
  },
  {
   "cell_type": "code",
   "execution_count": 10,
   "metadata": {},
   "outputs": [],
   "source": [
    "class DL_classifier(nn.Module):\n",
    "    def __init__(self):\n",
    "      super().__init__()\n",
    "      self.conv1 = nn.Conv2d(1, 20, 5, 1)\n",
    "      self.conv2 = nn.Conv2d(20, 50, 5, 1)\n",
    "      self.fc1 = nn.Linear(4*4*50, 500)\n",
    "      self.dropout1 = nn.Dropout(0.5)\n",
    "      self.fc2 = nn.Linear(500, 10)\n",
    "    def forward(self, x):\n",
    "      x = F.relu(self.conv1(x))\n",
    "      x = F.max_pool2d(x, 2, 2)\n",
    "      x = F.relu(self.conv2(x))\n",
    "      x = F.max_pool2d(x, 2, 2)\n",
    "      x = x.view(-1, 4*4*50)\n",
    "      x = F.relu(self.fc1(x))\n",
    "      x = self.dropout1(x)\n",
    "      x = self.fc2(x)\n",
    "      return x"
   ]
  },
  {
   "cell_type": "markdown",
   "metadata": {},
   "source": [
    "# Training settings"
   ]
  },
  {
   "cell_type": "code",
   "execution_count": 11,
   "metadata": {},
   "outputs": [],
   "source": [
    "model_dl = DL_classifier().to(device)\n",
    "criterion = nn.CrossEntropyLoss()\n",
    "optimizer = torch.optim.Adam(model_dl.parameters(), lr = 0.0001)"
   ]
  },
  {
   "cell_type": "markdown",
   "metadata": {},
   "source": [
    "# Training"
   ]
  },
  {
   "cell_type": "code",
   "execution_count": 12,
   "metadata": {},
   "outputs": [
    {
     "name": "stdout",
     "output_type": "stream",
     "text": [
      "epoch 1\n",
      "Loss 0.8528392098489261\n",
      "Acc 77.64583587646484\n",
      "Test_loss 0.30352177612838294\n",
      "Test_acc 91.28571319580078\n",
      "epoch 2\n",
      "Loss 0.23889592285489752\n",
      "Acc 92.89881134033203\n",
      "Test_loss 0.1782355129363991\n",
      "Test_acc 94.80952453613281\n",
      "epoch 3\n",
      "Loss 0.15702292361363238\n",
      "Acc 95.36904907226562\n",
      "Test_loss 0.13002282611670948\n",
      "Test_acc 96.22618865966797\n",
      "epoch 4\n",
      "Loss 0.1194897881442947\n",
      "Acc 96.39286041259766\n",
      "Test_loss 0.1047007113783842\n",
      "Test_acc 96.72618865966797\n",
      "epoch 5\n",
      "Loss 0.09642426061466158\n",
      "Acc 97.1339340209961\n",
      "Test_loss 0.08652313486007708\n",
      "Test_acc 97.3452377319336\n",
      "epoch 6\n",
      "Loss 0.08275154146498867\n",
      "Acc 97.54167175292969\n",
      "Test_loss 0.08014103446510576\n",
      "Test_acc 97.58333587646484\n",
      "epoch 7\n",
      "Loss 0.07225231760891065\n",
      "Acc 97.79464721679688\n",
      "Test_loss 0.07292744898725123\n",
      "Test_acc 97.60714721679688\n",
      "epoch 8\n",
      "Loss 0.06345609788660936\n",
      "Acc 98.0714340209961\n",
      "Test_loss 0.06366094257239074\n",
      "Test_acc 97.95238494873047\n",
      "epoch 9\n",
      "Loss 0.05815709279184895\n",
      "Acc 98.18452453613281\n",
      "Test_loss 0.05882238547339858\n",
      "Test_acc 98.22618865966797\n",
      "epoch 10\n",
      "Loss 0.052748913397192065\n",
      "Acc 98.3214340209961\n",
      "Test_loss 0.05860262238864033\n",
      "Test_acc 98.17857360839844\n",
      "epoch 11\n",
      "Loss 0.04725670468871526\n",
      "Acc 98.52678680419922\n",
      "Test_loss 0.052013838525107575\n",
      "Test_acc 98.29762268066406\n",
      "epoch 12\n",
      "Loss 0.04430465143135128\n",
      "Acc 98.63095092773438\n",
      "Test_loss 0.05131019159064939\n",
      "Test_acc 98.25\n",
      "epoch 13\n",
      "Loss 0.04020817629879318\n",
      "Acc 98.73214721679688\n",
      "Test_loss 0.04544024498734091\n",
      "Test_acc 98.48809814453125\n",
      "epoch 14\n",
      "Loss 0.03717827600831654\n",
      "Acc 98.86012268066406\n",
      "Test_loss 0.04804580772040589\n",
      "Test_acc 98.63095092773438\n",
      "epoch 15\n",
      "Loss 0.034256445550237824\n",
      "Acc 98.96428680419922\n",
      "Test_loss 0.04557713781971307\n",
      "Test_acc 98.55952453613281\n"
     ]
    }
   ],
   "source": [
    "epochs = 15\n",
    "epoch_loss = []\n",
    "epoch_acc = []\n",
    "epoch_test_loss = []\n",
    "epoch_test_acc = []\n",
    "for e in range(epochs):\n",
    "    actual_loss = 0.0\n",
    "    actual_preds = 0.0\n",
    "    test_loss = 0.0\n",
    "    test_preds = 0.0\n",
    "    for images, labels in train_loader:\n",
    "        images = images.float().to(device)\n",
    "        labels = labels.to(device)\n",
    "        out = model_dl(images)\n",
    "        loss = criterion(out, labels)\n",
    "        optimizer.zero_grad()\n",
    "        loss.backward()\n",
    "        optimizer.step()\n",
    "        actual_loss += loss.item()\n",
    "        _, preds = torch.max(out,1)\n",
    "        actual_preds += torch.sum(preds == labels)\n",
    "    else:\n",
    "        loss = actual_loss/len(train_loader)\n",
    "        acc = actual_preds/len(train_loader)\n",
    "        epoch_loss.append(loss)\n",
    "        epoch_acc.append(acc)\n",
    "        print('epoch {}'.format(e+1))\n",
    "        print('Loss {}'.format(loss))\n",
    "        print('Acc {}'.format(acc))\n",
    "        \n",
    "        for images, labels in test_loader:\n",
    "            images = images.float().to(device)\n",
    "            labels = labels.to(device)\n",
    "            out = model_dl(images)\n",
    "            loss = criterion(out, labels)\n",
    "            test_loss += loss.item()\n",
    "            _, preds = torch.max(out,1)\n",
    "            test_preds += torch.sum(preds == labels)\n",
    "        else:\n",
    "            test_loss = test_loss/len(test_loader)\n",
    "            test_acc = test_preds/len(test_loader)\n",
    "            epoch_test_loss.append(test_loss)\n",
    "            epoch_test_acc.append(test_acc)\n",
    "            print('Test_loss {}'.format(test_loss))\n",
    "            print('Test_acc {}'.format(test_acc))"
   ]
  },
  {
   "cell_type": "markdown",
   "metadata": {},
   "source": [
    "# Plot loss"
   ]
  },
  {
   "cell_type": "code",
   "execution_count": 13,
   "metadata": {},
   "outputs": [
    {
     "data": {
      "image/png": "[encoded data removed]",
      "text/plain": [
       "<Figure size 432x288 with 1 Axes>"
      ]
     },
     "metadata": {
      "needs_background": "light"
     },
     "output_type": "display_data"
    }
   ],
   "source": [
    "plt.plot(epoch_loss, color ='r', label = \"Train Loss\")\n",
    "plt.plot(epoch_test_loss, color ='b', label = \"Test loss\")\n",
    "plt.legend()\n",
    "plt.show()"
   ]
  },
  {
   "cell_type": "markdown",
   "metadata": {},
   "source": [
    "# Plot accuracy"
   ]
  },
  {
   "cell_type": "code",
   "execution_count": 14,
   "metadata": {},
   "outputs": [
    {
     "data": {
      "image/png": "[encoded data removed]",
      "text/plain": [
       "<Figure size 432x288 with 1 Axes>"
      ]
     },
     "metadata": {
      "needs_background": "light"
     },
     "output_type": "display_data"
    }
   ],
   "source": [
    "plt.plot(epoch_acc, color ='r', label = \"Train accuracy\")\n",
    "plt.plot(epoch_test_acc, color ='b', label = \"Test accuracy\")\n",
    "plt.legend()\n",
    "plt.show()"
   ]
  },
  {
   "cell_type": "markdown",
   "metadata": {},
   "source": [
    "# Function for converting image to normal version"
   ]
  },
  {
   "cell_type": "code",
   "execution_count": 15,
   "metadata": {},
   "outputs": [],
   "source": [
    "def im_convert(tensor):\n",
    "  image = tensor.clone().detach().numpy()\n",
    "  image = image.transpose(1, 2, 0)\n",
    "  image = image * np.array((0.5, 0.5, 0.5)) + np.array((0.5, 0.5, 0.5))\n",
    "  image = image.clip(0, 1)\n",
    "  return image"
   ]
  },
  {
   "cell_type": "markdown",
   "metadata": {},
   "source": [
    "# Plot sample predictions NN"
   ]
  },
  {
   "cell_type": "code",
   "execution_count": 16,
   "metadata": {},
   "outputs": [
    {
     "data": {
      "image/png": "[encoded data removed]",
      "text/plain": [
       "<Figure size 1800x288 with 20 Axes>"
      ]
     },
     "metadata": {},
     "output_type": "display_data"
    }
   ],
   "source": [
    "images, labels = train_iter.next()\n",
    "images_flat = images.view(images.shape[0], -1).float()\n",
    "out = model(images_flat)\n",
    "_, preds = torch.max(out,1)\n",
    "fig = plt.figure(figsize=(25, 4))\n",
    "\n",
    "for idx in np.arange(20):\n",
    "    ax = fig.add_subplot(2, 10, idx+1, xticks=[], yticks=[])\n",
    "    plt.imshow(im_convert(images[idx]))\n",
    "    title = 'Predykcja: {}'.format(preds[idx]) \n",
    "    ax.set_title(title, color= ('g' if preds[idx]==labels[idx].item() else'r'))"
   ]
  },
  {
   "cell_type": "markdown",
   "metadata": {},
   "source": [
    "# Plot sample predictions DL"
   ]
  },
  {
   "cell_type": "code",
   "execution_count": 17,
   "metadata": {},
   "outputs": [
    {
     "data": {
      "image/png": "[encoded data removed]",
      "text/plain": [
       "<Figure size 1800x288 with 20 Axes>"
      ]
     },
     "metadata": {},
     "output_type": "display_data"
    }
   ],
   "source": [
    "images, labels = train_iter.next()\n",
    "images_flat = images.float().to(device)\n",
    "out = model_dl(images_flat)\n",
    "_, preds = torch.max(out,1)\n",
    "fig = plt.figure(figsize=(25, 4))\n",
    "\n",
    "for idx in np.arange(20):\n",
    "    ax = fig.add_subplot(2, 10, idx+1, xticks=[], yticks=[])\n",
    "    plt.imshow(im_convert(images[idx]))\n",
    "    title = 'Predykcja: {}'.format(preds[idx]) \n",
    "    ax.set_title(title, color= ('g' if preds[idx]==labels[idx].item() else'r'))"
   ]
  },
  {
   "cell_type": "markdown",
   "metadata": {},
   "source": [
    "# Load images for prediction"
   ]
  },
  {
   "cell_type": "code",
   "execution_count": 19,
   "metadata": {},
   "outputs": [],
   "source": [
    "new_dataset = Dataset(\"Data/test.csv\", train = True, test_size = 0, transform = transform, labels = False)\n",
    "new_loader = torch.utils.data.DataLoader(new_dataset, batch_size = 100, shuffle = False)\n",
    "preds = []\n",
    "for images,_ in new_loader:\n",
    "    images = images.float().to(device)\n",
    "    out = model_dl(images)\n",
    "    _, pred = torch.max(out, 1)\n",
    "    preds = np.concatenate((preds,pred.to('cpu').numpy()))"
   ]
  },
  {
   "cell_type": "markdown",
   "metadata": {},
   "source": [
    "# Save predictions to file"
   ]
  },
  {
   "cell_type": "code",
   "execution_count": 20,
   "metadata": {},
   "outputs": [],
   "source": [
    "preds = preds.astype(int)\n",
    "y = np.zeros((28000, 2), dtype = int)\n",
    "y[:,0] = range(1,28001)\n",
    "y[:,1] = preds\n",
    "df = pd.DataFrame(y,columns= [\"ImageId\",\"Label\"])\n",
    "df.to_csv(\"output_nn.csv\", index = False)"
   ]
  }
 ],
 "metadata": {
  "kernelspec": {
   "display_name": "Python 3",
   "language": "python",
   "name": "python3"
  },
  "language_info": {
   "codemirror_mode": {
    "name": "ipython",
    "version": 3
   },
   "file_extension": ".py",
   "mimetype": "text/x-python",
   "name": "python",
   "nbconvert_exporter": "python",
   "pygments_lexer": "ipython3",
   "version": "3.7.6"
  }
 },
 "nbformat": 4,
 "nbformat_minor": 4
}
