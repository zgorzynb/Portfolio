{
 "cells": [
  {
   "cell_type": "markdown",
   "metadata": {},
   "source": [
    "# Import libraries"
   ]
  },
  {
   "cell_type": "code",
   "execution_count": null,
   "metadata": {},
   "outputs": [],
   "source": [
    "import matplotlib.pyplot as plt\n",
    "import numpy as np\n",
    "import pandas as pd\n",
    "\n",
    "import torch\n",
    "import torch.nn.functional as F\n",
    "from torch import nn\n",
    "from torchvision import datasets, transforms"
   ]
  },
  {
   "cell_type": "markdown",
   "metadata": {},
   "source": [
    "# Create \"Dataset\" class"
   ]
  },
  {
   "cell_type": "code",
   "execution_count": null,
   "metadata": {},
   "outputs": [],
   "source": [
    "class Dataset():\n",
    "    def __init__(self, csv_file, train, test_size, transform = None, labels=True):\n",
    "        data = pd.read_csv(csv_file)\n",
    "        key = int((1-test_size)*len(data))\n",
    "        if train:\n",
    "            self.data = pd.DataFrame(data.iloc[:key,:])\n",
    "        else:\n",
    "            self.data = pd.DataFrame(data.iloc[key:,:])\n",
    "        self.transform = transform\n",
    "        self.labels = labels\n",
    "        \n",
    "    def __len__(self):\n",
    "        return len(self.data)\n",
    "    \n",
    "    def __getitem__(self, idx):\n",
    "        if self.labels:\n",
    "            out = self.data.iloc[idx,1:].to_numpy().reshape((28,28)).astype(\"double\")\n",
    "            labels = self.get_label(idx)\n",
    "        else:\n",
    "            out = self.data.iloc[idx,:].to_numpy().reshape((28,28)).astype(\"double\")\n",
    "            labels = []\n",
    "        out = out/255.\n",
    "        if self.transform:\n",
    "            out = self.transform(out)\n",
    "        return out, labels\n",
    "\n",
    "    def get_label(self,idx):\n",
    "        return self.data.iloc[idx,0].item()"
   ]
  },
  {
   "cell_type": "markdown",
   "metadata": {},
   "source": [
    "# Load data and transformations"
   ]
  },
  {
   "cell_type": "code",
   "execution_count": null,
   "metadata": {},
   "outputs": [],
   "source": [
    "transform = transforms.Compose([transforms.ToTensor(),\n",
    "                               transforms.Normalize((0.5,),(0.5,))])\n",
    "\n",
    "train_dataset = Dataset(\"Data/train.csv\", train = True, test_size = 0.2, transform = transform)\n",
    "train_loader = torch.utils.data.DataLoader(train_dataset, batch_size = 100, shuffle = True)\n",
    "test_dataset = Dataset(\"Data/train.csv\", train = False, test_size = 0.2, transform = transform)\n",
    "test_loader = torch.utils.data.DataLoader(test_dataset, batch_size = 100, shuffle = False)\n",
    "train_iter = iter(train_loader)\n",
    "test_iter = iter(test_loader)"
   ]
  },
  {
   "cell_type": "markdown",
   "metadata": {},
   "source": [
    "# Prepare NN model"
   ]
  },
  {
   "cell_type": "code",
   "execution_count": null,
   "metadata": {},
   "outputs": [],
   "source": [
    "class Classifier(nn.Module):\n",
    "    def __init__(self, x_in, x1, x2, x_out):\n",
    "        super().__init__()\n",
    "        self.linear1 = nn.Linear(x_in, x1)\n",
    "        self.linear2 = nn.Linear(x1,x2)\n",
    "        self.linear3 = nn.Linear(x2,x_out)\n",
    "    def forward(self, x):\n",
    "        x = F.relu(self.linear1(x))\n",
    "        x = F.relu(self.linear2(x))\n",
    "        x = self.linear3(x)\n",
    "        return x        "
   ]
  },
  {
   "cell_type": "markdown",
   "metadata": {},
   "source": [
    "# Training settings"
   ]
  },
  {
   "cell_type": "code",
   "execution_count": null,
   "metadata": {},
   "outputs": [],
   "source": [
    "model = Classifier(28*28, 135, 65, 10)\n",
    "criterion = nn.CrossEntropyLoss()\n",
    "optimizer = torch.optim.Adam(model.parameters(), lr = 0.0001)"
   ]
  },
  {
   "cell_type": "markdown",
   "metadata": {},
   "source": [
    "# Training"
   ]
  },
  {
   "cell_type": "code",
   "execution_count": null,
   "metadata": {},
   "outputs": [],
   "source": [
    "epochs = 15\n",
    "epoch_loss = []\n",
    "epoch_acc = []\n",
    "epoch_test_loss = []\n",
    "epoch_test_acc = []\n",
    "for e in range(epochs):\n",
    "    actual_loss = 0.0\n",
    "    actual_preds = 0.0\n",
    "    test_loss = 0.0\n",
    "    test_preds = 0.0\n",
    "    for images, labels in train_loader:\n",
    "        images = images.view(images.shape[0], -1).float()\n",
    "        out = model(images)\n",
    "        loss = criterion(out, labels)\n",
    "        optimizer.zero_grad()\n",
    "        loss.backward()\n",
    "        optimizer.step()\n",
    "        actual_loss += loss.item()\n",
    "        _, preds = torch.max(out,1)\n",
    "        actual_preds += torch.sum(preds == labels)\n",
    "    else:\n",
    "        loss = actual_loss/len(train_loader)\n",
    "        acc = actual_preds/len(train_loader)\n",
    "        epoch_loss.append(loss)\n",
    "        epoch_acc.append(acc)\n",
    "        print('epoch {}'.format(e+1))\n",
    "        print('Loss {}'.format(loss))\n",
    "        print('Acc {}'.format(acc))\n",
    "        \n",
    "        for images, labels in test_loader:\n",
    "            images = images.view(images.shape[0], -1).float()\n",
    "            out = model(images)\n",
    "            loss = criterion(out, labels)\n",
    "            test_loss += loss.item()\n",
    "            _, preds = torch.max(out,1)\n",
    "            test_preds += torch.sum(preds == labels)\n",
    "        else:\n",
    "            test_loss = test_loss/len(test_loader)\n",
    "            test_acc = test_preds/len(test_loader)\n",
    "            epoch_test_loss.append(test_loss)\n",
    "            epoch_test_acc.append(test_acc)\n",
    "            print('Test_loss {}'.format(test_loss))\n",
    "            print('Test_acc {}'.format(test_acc))"
   ]
  },
  {
   "cell_type": "markdown",
   "metadata": {},
   "source": [
    "# Plot loss"
   ]
  },
  {
   "cell_type": "code",
   "execution_count": null,
   "metadata": {},
   "outputs": [],
   "source": [
    "plt.plot(epoch_loss, color ='r', label = \"Train Loss\")\n",
    "plt.plot(epoch_test_loss, color ='b', label = \"Test loss\")\n",
    "plt.legend()\n",
    "plt.show()"
   ]
  },
  {
   "cell_type": "markdown",
   "metadata": {},
   "source": [
    "# Plot accuracy"
   ]
  },
  {
   "cell_type": "code",
   "execution_count": null,
   "metadata": {},
   "outputs": [],
   "source": [
    "plt.plot(epoch_acc, color ='r', label = \"Train accuracy\")\n",
    "plt.plot(epoch_test_acc, color ='b', label = \"Test accuracy\")\n",
    "plt.legend()\n",
    "plt.show()"
   ]
  },
  {
   "cell_type": "markdown",
   "metadata": {},
   "source": [
    "# Function for converting image to normal version"
   ]
  },
  {
   "cell_type": "code",
   "execution_count": null,
   "metadata": {},
   "outputs": [],
   "source": [
    "def im_convert(tensor):\n",
    "  image = tensor.clone().detach().numpy()\n",
    "  image = image.transpose(1, 2, 0)\n",
    "  image = image * np.array((0.5, 0.5, 0.5)) + np.array((0.5, 0.5, 0.5))\n",
    "  image = image.clip(0, 1)\n",
    "  return image"
   ]
  },
  {
   "cell_type": "markdown",
   "metadata": {},
   "source": [
    "# Plot sample predictions"
   ]
  },
  {
   "cell_type": "code",
   "execution_count": null,
   "metadata": {},
   "outputs": [],
   "source": [
    "images, labels = train_iter.next()\n",
    "images_flat = images.view(images.shape[0], -1).float()\n",
    "out = model(images_flat)\n",
    "_, preds = torch.max(out,1)\n",
    "fig = plt.figure(figsize=(25, 4))\n",
    "\n",
    "for idx in np.arange(20):\n",
    "    ax = fig.add_subplot(2, 10, idx+1, xticks=[], yticks=[])\n",
    "    plt.imshow(im_convert(images[idx]))\n",
    "    title = 'Predykcja: {}'.format(preds[idx]) \n",
    "    ax.set_title(title, color= ('g' if preds[idx]==labels[idx].item() else'r'))"
   ]
  },
  {
   "cell_type": "markdown",
   "metadata": {},
   "source": [
    "# Load images for prediction"
   ]
  },
  {
   "cell_type": "code",
   "execution_count": null,
   "metadata": {},
   "outputs": [],
   "source": [
    "new_dataset = Dataset(\"Data/test.csv\", train = True, test_size = 0, transform = transform, labels = False)\n",
    "new_loader = torch.utils.data.DataLoader(new_dataset, batch_size = 100, shuffle = False)\n",
    "preds = []\n",
    "for images,_ in new_loader:\n",
    "    images = images.view(images.shape[0], -1).float()\n",
    "    out = model(images)\n",
    "    _, pred = torch.max(out, 1)\n",
    "    preds = np.concatenate((preds,pred.numpy()))"
   ]
  },
  {
   "cell_type": "markdown",
   "metadata": {},
   "source": [
    "# Save predictions to file"
   ]
  },
  {
   "cell_type": "code",
   "execution_count": null,
   "metadata": {},
   "outputs": [],
   "source": [
    "preds = preds.astype(int)\n",
    "y = np.zeros((28000, 2), dtype = int)\n",
    "y[:,0] = range(1,28001)\n",
    "y[:,1] = preds\n",
    "df = pd.DataFrame(y,columns= [\"ImageId\",\"Label\"])\n",
    "df.to_csv(\"output_nn.csv\", index = False)"
   ]
  }
 ],
 "metadata": {
  "kernelspec": {
   "display_name": "Python 3",
   "language": "python",
   "name": "python3"
  },
  "language_info": {
   "codemirror_mode": {
    "name": "ipython",
    "version": 3
   },
   "file_extension": ".py",
   "mimetype": "text/x-python",
   "name": "python",
   "nbconvert_exporter": "python",
   "pygments_lexer": "ipython3",
   "version": "3.7.3"
  }
 },
 "nbformat": 4,
 "nbformat_minor": 4
}
